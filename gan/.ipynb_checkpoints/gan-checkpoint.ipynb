{
 "cells": [
  {
   "cell_type": "code",
   "execution_count": 1,
   "id": "ed9fbe05",
   "metadata": {},
   "outputs": [
    {
     "name": "stderr",
     "output_type": "stream",
     "text": [
      "/home/waj/anaconda3/envs/tts/lib/python3.10/site-packages/transformers/utils/hub.py:124: FutureWarning: Using `TRANSFORMERS_CACHE` is deprecated and will be removed in v5 of Transformers. Use `HF_HOME` instead.\n",
      "  warnings.warn(\n"
     ]
    }
   ],
   "source": [
    "# 1 import package\n",
    "import torch\n",
    "import  torch.nn as nn\n",
    "from torch.utils.data import DataLoader,Dataset\n",
    "from torchvision import datasets\n",
    "from torchvision.utils import save_image\n",
    "from torchvision import transforms\n",
    "import os\n",
    "import matplotlib.pyplot as plt"
   ]
  },
  {
   "cell_type": "code",
   "execution_count": 2,
   "id": "aa4f42c4",
   "metadata": {},
   "outputs": [],
   "source": [
    "# 参数"
   ]
  },
  {
   "cell_type": "code",
   "execution_count": 3,
   "id": "e33b1fb0",
   "metadata": {},
   "outputs": [],
   "source": [
    "BATCH_SIZE=512\n",
    "EPOCHS=200\n",
    "image_size=28\n",
    "channel=1\n",
    "z_dim=128\n",
    "device=torch.device(\"cuda\" if torch.cuda.is_available() else \"cpu\" )"
   ]
  },
  {
   "cell_type": "code",
   "execution_count": 4,
   "id": "f090e3c5",
   "metadata": {},
   "outputs": [],
   "source": [
    "def show_mnist_image(image_array, label):\n",
    "    plt.imshow(image_array, cmap='Greys')\n",
    "    plt.title(f\"Label: {label}\")\n",
    "    plt.show()\n",
    "# 1 data loader \n",
    "dataset=datasets.MNIST(\"../data/\",train=True,transform=transforms.Compose([\n",
    "    transforms.Resize(28),transforms.ToTensor(),transforms.Normalize(0.5,0.5)\n",
    "]))\n",
    "mnist=DataLoader(dataset,shuffle=True,batch_size=BATCH_SIZE,drop_last=True)"
   ]
  },
  {
   "cell_type": "code",
   "execution_count": 5,
   "id": "2a81e376",
   "metadata": {},
   "outputs": [
    {
     "name": "stdout",
     "output_type": "stream",
     "text": [
      "torch.Size([512, 1, 28, 28])\n"
     ]
    },
    {
     "data": {
      "image/png": "[encoded data removed]",
      "text/plain": [
       "<Figure size 640x480 with 1 Axes>"
      ]
     },
     "metadata": {},
     "output_type": "display_data"
    }
   ],
   "source": [
    "for data in mnist:\n",
    "    print(data[0].shape)\n",
    "    show_mnist_image(data[0][0][0], data[1][0])\n",
    "    break"
   ]
  },
  {
   "cell_type": "code",
   "execution_count": 6,
   "id": "b0df4cef",
   "metadata": {},
   "outputs": [],
   "source": [
    "# 2 genreator\n",
    "class Generator( nn.Module):\n",
    "    def __init__(self,z_dim):\n",
    "        super(Generator,self).__init__()\n",
    "        self.model=nn.Sequential(nn.Linear(z_dim,128),\n",
    "                      nn.ReLU(),\n",
    "                      nn.Linear(128,256),\n",
    "                      nn.BatchNorm1d(256),\n",
    "                      nn.ReLU(),\n",
    "                      nn.Linear(256,512),\n",
    "                      nn.BatchNorm1d(512),\n",
    "                      nn.ReLU(),\n",
    "                      nn.Linear(512,1024),\n",
    "                      nn.BatchNorm1d(1024),\n",
    "                      nn.ReLU(),\n",
    "                      nn.Linear(1024,image_size*image_size),          \n",
    "                      nn.Tanh()\n",
    "                     )\n",
    "    def forward(self,z):\n",
    "        x=self.model(z)\n",
    "        return x"
   ]
  },
  {
   "cell_type": "code",
   "execution_count": 7,
   "id": "e04c15e6",
   "metadata": {},
   "outputs": [
    {
     "data": {
      "text/plain": [
       "torch.Size([512, 1, 28, 28])"
      ]
     },
     "execution_count": 7,
     "metadata": {},
     "output_type": "execute_result"
    }
   ],
   "source": [
    "data[0].shape"
   ]
  },
  {
   "cell_type": "code",
   "execution_count": 8,
   "id": "5d0acba6",
   "metadata": {},
   "outputs": [
    {
     "data": {
      "text/plain": [
       "torch.Size([512, 784])"
      ]
     },
     "execution_count": 8,
     "metadata": {},
     "output_type": "execute_result"
    }
   ],
   "source": [
    "\n",
    "g_x=torch.randn(BATCH_SIZE,z_dim).to(device)\n",
    "g_model=Generator(z_dim).to(device)\n",
    "g_model(g_x).shape"
   ]
  },
  {
   "cell_type": "code",
   "execution_count": 9,
   "id": "3b27dd03",
   "metadata": {},
   "outputs": [],
   "source": [
    "# 3 diacriminator model\n",
    "class Discriminator(nn.Module):\n",
    "    def __init__(self,image_size):\n",
    "        super(Discriminator,self).__init__()\n",
    "        self.model=nn.Sequential(\n",
    "            nn.Linear(image_size**2,1024),\n",
    "            nn.ReLU(),\n",
    "            nn.Linear(1024,256),\n",
    "            nn.ReLU(),\n",
    "            nn.Linear(256,64),\n",
    "            nn.ReLU(),\n",
    "            nn.Linear(64,1),\n",
    "            nn.Sigmoid()\n",
    "        \n",
    "        )\n",
    "    def forward(self,x):\n",
    "        x=self.model(x)\n",
    "        return x.reshape(-1)"
   ]
  },
  {
   "cell_type": "code",
   "execution_count": 10,
   "id": "edefba32",
   "metadata": {},
   "outputs": [
    {
     "data": {
      "text/plain": [
       "torch.Size([512])"
      ]
     },
     "execution_count": 10,
     "metadata": {},
     "output_type": "execute_result"
    }
   ],
   "source": [
    "d_model=Discriminator(28).to(device)\n",
    "d_model(data[0].reshape(BATCH_SIZE,-1).to(device)).shape"
   ]
  },
  {
   "cell_type": "code",
   "execution_count": 11,
   "id": "fd52b12f",
   "metadata": {},
   "outputs": [],
   "source": [
    "# 4 loss ,optimizer"
   ]
  },
  {
   "cell_type": "code",
   "execution_count": 12,
   "id": "2416b0f2",
   "metadata": {},
   "outputs": [],
   "source": [
    "g_optim=torch.optim.Adam(g_model.parameters(),1e-4)\n",
    "d_optim=torch.optim.Adam(d_model.parameters(),1e-4)"
   ]
  },
  {
   "cell_type": "code",
   "execution_count": 13,
   "id": "a677d940",
   "metadata": {},
   "outputs": [],
   "source": [
    "loss_fn=nn.BCELoss()"
   ]
  },
  {
   "cell_type": "code",
   "execution_count": 14,
   "id": "6fb73cb9",
   "metadata": {},
   "outputs": [],
   "source": [
    "# train"
   ]
  },
  {
   "cell_type": "code",
   "execution_count": null,
   "id": "60192d75",
   "metadata": {},
   "outputs": [
    {
     "name": "stdout",
     "output_type": "stream",
     "text": [
      "epoch 0 ,step : 0 g_loss 0.7536012530326843 d_loss : 0.6950392723083496\n",
      "epoch 0 ,step : 100 g_loss 2.59954833984375 d_loss : 0.09765737503767014\n"
     ]
    }
   ],
   "source": [
    "index=0\n",
    "for epoch in range(EPOCHS):\n",
    "    for data,label in mnist:\n",
    "        x=data.reshape(BATCH_SIZE,-1).to(device)\n",
    "        # generator\n",
    "        z=torch.randn(BATCH_SIZE,z_dim).to(device)\n",
    "        x_fake=g_model(z)\n",
    "        y_fake=d_model(x_fake)\n",
    "        ones=torch.ones(BATCH_SIZE).to(device)\n",
    "        zeros=torch.zeros(BATCH_SIZE).to(device)\n",
    "        g_optim.zero_grad()\n",
    "        g_loss=loss_fn(y_fake,ones)\n",
    "        g_loss.backward()\n",
    "        g_optim.step()\n",
    "        \n",
    "    \n",
    "        # discriminator\n",
    "        y_true=d_model(x)\n",
    "        y_false=d_model(x_fake.detach())\n",
    "        d_optim.zero_grad()\n",
    "        d_loss=0.5*(loss_fn(y_true,ones)+loss_fn(y_false,zeros))\n",
    "        d_loss.backward()\n",
    "        d_optim.step()\n",
    "        \n",
    "        if index%100==0:\n",
    "            print(f\"epoch {epoch} ,step : {index} g_loss {g_loss} d_loss : {d_loss}\")\n",
    "            if index%100==0:\n",
    "                os.makedirs(\"image\",exist_ok=True)\n",
    "                image=x_fake.reshape(BATCH_SIZE,1,28,28).data[:25]\n",
    "                save_image(image,\"image/%d.png\" % index,normalize=True)\n",
    "        index+=1"
   ]
  },
  {
   "cell_type": "code",
   "execution_count": null,
   "id": "7c0692d3",
   "metadata": {},
   "outputs": [],
   "source": []
  },
  {
   "cell_type": "code",
   "execution_count": null,
   "id": "716e4794",
   "metadata": {},
   "outputs": [],
   "source": [
    "# image generator"
   ]
  },
  {
   "cell_type": "code",
   "execution_count": null,
   "id": "6d828153",
   "metadata": {},
   "outputs": [],
   "source": [
    "# random z\n",
    "z=torch.randn(25,z_dim).to(device)\n",
    "g_x=g_model(z).reshape(-1,1,28,28).data # generator image\n",
    "save_image(g_x,\"image/test.png\",normalize=True,nrow=5)\n",
    "\n",
    "g_x=g_x.cpu().detach() # generator image\n",
    "for i in range(5):\n",
    "    show_mnist_image(g_x[i][0], \"mnist\")"
   ]
  },
  {
   "cell_type": "code",
   "execution_count": null,
   "id": "a1252665",
   "metadata": {},
   "outputs": [],
   "source": [
    "g_model(z).shape\n"
   ]
  },
  {
   "cell_type": "markdown",
   "id": "4ff4e1d3",
   "metadata": {},
   "source": [
    "# 保存模型"
   ]
  },
  {
   "cell_type": "code",
   "execution_count": null,
   "id": "50584a80",
   "metadata": {},
   "outputs": [],
   "source": [
    "# save  model\n",
    "os.makedirs(\"model\",exist_ok=True)\n",
    "torch.save(g_model.state_dict(),\"model/mnist_model.pth\")"
   ]
  },
  {
   "cell_type": "markdown",
   "id": "06270ffb",
   "metadata": {},
   "source": [
    "# 模型加载及使用"
   ]
  },
  {
   "cell_type": "code",
   "execution_count": null,
   "id": "f84e93eb",
   "metadata": {},
   "outputs": [],
   "source": [
    "\n",
    "# 2 genreator\n",
    "class Generator( nn.Module):\n",
    "    def __init__(self,z_dim):\n",
    "        super(Generator,self).__init__()\n",
    "        self.model=nn.Sequential(nn.Linear(z_dim,128),\n",
    "                      nn.ReLU(),\n",
    "                      nn.Linear(128,256),\n",
    "                      nn.ReLU(),\n",
    "                      nn.Linear(256,512),\n",
    "                      nn.ReLU(),\n",
    "                      nn.Linear(512,1024),\n",
    "                      nn.ReLU(),\n",
    "                      nn.BatchNorm1d(1024),\n",
    "                      nn.Linear(1024,image_size*image_size),          \n",
    "                      nn.Tanh()\n",
    "                      \n",
    "                     )\n",
    "    def forward(self,z):\n",
    "        x=self.model(z)\n",
    "        return x\n",
    "# load and use model\n",
    "g_new_model=Generator(z_dim).to(device)\n",
    "g_new_model.load_state_dict(torch.load(\"model/mnist_model.pth\"))"
   ]
  },
  {
   "cell_type": "code",
   "execution_count": null,
   "id": "748a7eba",
   "metadata": {},
   "outputs": [],
   "source": [
    "z=torch.randn(25,z_dim).to(device)\n",
    "g_x=g_new_model(z).reshape(-1,1,28,28).cpu().detach() # generator image\n",
    "save_image(g_x,\"image/test.png\",normalize=True,nrow=5)\n",
    "for i in range(5):\n",
    "    show_mnist_image(g_x[i][0], \"mnist\")"
   ]
  },
  {
   "cell_type": "code",
   "execution_count": null,
   "id": "4ca35ba5",
   "metadata": {},
   "outputs": [],
   "source": []
  },
  {
   "cell_type": "code",
   "execution_count": null,
   "id": "9a29a0b3",
   "metadata": {},
   "outputs": [],
   "source": []
  }
 ],
 "metadata": {
  "kernelspec": {
   "display_name": "tts",
   "language": "python",
   "name": "tts"
  },
  "language_info": {
   "codemirror_mode": {
    "name": "ipython",
    "version": 3
   },
   "file_extension": ".py",
   "mimetype": "text/x-python",
   "name": "python",
   "nbconvert_exporter": "python",
   "pygments_lexer": "ipython3",
   "version": "3.10.1"
  }
 },
 "nbformat": 4,
 "nbformat_minor": 5
}
