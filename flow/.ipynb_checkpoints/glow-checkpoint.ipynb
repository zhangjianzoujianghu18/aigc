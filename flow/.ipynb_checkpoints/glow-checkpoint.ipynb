{
 "cells": [
  {
   "cell_type": "code",
   "execution_count": 1,
   "id": "c60cef79",
   "metadata": {},
   "outputs": [
    {
     "name": "stderr",
     "output_type": "stream",
     "text": [
      "/home/waj/anaconda3/envs/tts/lib/python3.10/site-packages/transformers/utils/hub.py:124: FutureWarning: Using `TRANSFORMERS_CACHE` is deprecated and will be removed in v5 of Transformers. Use `HF_HOME` instead.\n",
      "  warnings.warn(\n"
     ]
    }
   ],
   "source": [
    "# 1 import package\n",
    "import torch\n",
    "import  torch.nn as nn\n",
    "from torch.utils.data import DataLoader,Dataset\n",
    "from torchvision import datasets\n",
    "from torchvision.utils import save_image\n",
    "from torchvision import transforms\n",
    "import os\n",
    "import matplotlib.pyplot as plt\n",
    "from scipy import linalg as la\n",
    "import numpy as np\n",
    "import math"
   ]
  },
  {
   "cell_type": "code",
   "execution_count": 2,
   "id": "03191991",
   "metadata": {},
   "outputs": [],
   "source": [
    "BATCH_SIZE=256\n",
    "EPOCHS=200\n",
    "image_size=32\n",
    "channel=1\n",
    "z_dim=128\n",
    "n_flow=30\n",
    "n_block=4\n",
    "n_channel=1\n",
    "n_sampls=25\n",
    "device=torch.device(\"cuda\" if torch.cuda.is_available() else \"cpu\" )"
   ]
  },
  {
   "cell_type": "code",
   "execution_count": 3,
   "id": "c644753b",
   "metadata": {},
   "outputs": [],
   "source": [
    "class Jitter:\n",
    "    \"\"\"Transform for dataloader, adds uniform jitter noise to data\"\"\"\n",
    "\n",
    "    def __init__(self, scale=1.0 / 256):\n",
    "        \"\"\"Constructor\n",
    "\n",
    "        Args:\n",
    "          scale: Scaling factor for noise\n",
    "        \"\"\"\n",
    "        self.scale = scale\n",
    "\n",
    "    def __call__(self, x):\n",
    "        eps = torch.rand_like(x) * self.scale\n",
    "        x_ = x + eps\n",
    "        return x_\n",
    "    \n",
    "class Scale:\n",
    "    \"\"\"Transform for dataloader, adds uniform jitter noise to data\"\"\"\n",
    "\n",
    "    def __init__(self, scale=255.0 / 256.0):\n",
    "        \"\"\"Constructor\n",
    "\n",
    "        Args:\n",
    "          scale: Scaling factor for noise\n",
    "        \"\"\"\n",
    "        self.scale = scale\n",
    "\n",
    "    def __call__(self, x):\n",
    "        return x * self.scale"
   ]
  },
  {
   "cell_type": "code",
   "execution_count": 4,
   "id": "7360efaf",
   "metadata": {},
   "outputs": [],
   "source": [
    "def show_mnist_image(image_array, label):\n",
    "    plt.imshow(image_array, cmap='Greys')\n",
    "    plt.title(f\"Label: {label}\")\n",
    "# 1 data loader \n",
    "dataset=datasets.MNIST(\"../data/\",train=True,transform=transforms.Compose([\n",
    "    transforms.Resize(32),transforms.ToTensor()\n",
    "]))\n",
    "mnist=DataLoader(dataset,shuffle=True,batch_size=BATCH_SIZE,drop_last=True)"
   ]
  },
  {
   "cell_type": "code",
   "execution_count": 5,
   "id": "cab469bf",
   "metadata": {},
   "outputs": [
    {
     "name": "stdout",
     "output_type": "stream",
     "text": [
      "torch.Size([256, 1, 32, 32])\n"
     ]
    },
    {
     "data": {
      "image/png": "[encoded data removed]",
      "text/plain": [
       "<Figure size 640x480 with 1 Axes>"
      ]
     },
     "metadata": {},
     "output_type": "display_data"
    }
   ],
   "source": [
    "for data in mnist:\n",
    "    print(data[0].shape)\n",
    "    show_mnist_image(data[0][0][0], data[1][0])\n",
    "    break"
   ]
  },
  {
   "cell_type": "code",
   "execution_count": null,
   "id": "a4613d82",
   "metadata": {},
   "outputs": [],
   "source": []
  },
  {
   "cell_type": "code",
   "execution_count": 6,
   "id": "988293a3",
   "metadata": {},
   "outputs": [],
   "source": [
    "def calc_z_shapes(n_channel,input_size,n_flow,n_block):\n",
    "    z_shapes=[]\n",
    "    for i in range(n_block-1):\n",
    "        input_size//=2\n",
    "        n_channel*=2\n",
    "        z_shapes.append((n_channel,input_size,input_size))\n",
    "    input_size//=2\n",
    "    z_shapes.append((n_channel*4,input_size,input_size))\n",
    "    return z_shapes"
   ]
  },
  {
   "cell_type": "code",
   "execution_count": 7,
   "id": "98084eaa",
   "metadata": {},
   "outputs": [
    {
     "data": {
      "text/plain": [
       "[(2, 16, 16), (4, 8, 8), (8, 4, 4), (32, 2, 2)]"
      ]
     },
     "execution_count": 7,
     "metadata": {},
     "output_type": "execute_result"
    }
   ],
   "source": [
    "z_shapes=calc_z_shapes(n_channel,image_size,n_flow,n_block)\n",
    "z_shapes"
   ]
  },
  {
   "cell_type": "code",
   "execution_count": 8,
   "id": "8c15daa9",
   "metadata": {},
   "outputs": [
    {
     "name": "stdout",
     "output_type": "stream",
     "text": [
      "torch.Size([25, 2, 16, 16])\n",
      "torch.Size([25, 4, 8, 8])\n",
      "torch.Size([25, 8, 4, 4])\n",
      "torch.Size([25, 32, 2, 2])\n"
     ]
    },
    {
     "data": {
      "text/plain": [
       "[None, None, None, None]"
      ]
     },
     "execution_count": 8,
     "metadata": {},
     "output_type": "execute_result"
    }
   ],
   "source": [
    "z_samples=[]\n",
    "for z in z_shapes:\n",
    "    z_new=torch.randn(n_sampls,*z)\n",
    "    z_samples.append(z_new)\n",
    "[print(x.shape) for x in z_samples]"
   ]
  },
  {
   "cell_type": "markdown",
   "id": "d382bc40",
   "metadata": {},
   "source": [
    "# 模型定义"
   ]
  },
  {
   "cell_type": "markdown",
   "id": "608929d1",
   "metadata": {},
   "source": [
    "![架构图](./architecture.png)"
   ]
  },
  {
   "cell_type": "code",
   "execution_count": 9,
   "id": "237ebe64",
   "metadata": {},
   "outputs": [],
   "source": [
    "logabs=lambda x : torch.log(torch.abs(x))\n",
    "class Actnorm(nn.Module):\n",
    "    def __init__(self,in_channel,logdet=True):\n",
    "        super(Actnorm,self).__init__()\n",
    "        self.bias=nn.Parameter(torch.zeros(1,in_channel,1,1))\n",
    "        self.scale=nn.Parameter(torch.ones(1,in_channel,1,1))\n",
    "        self.register_buffer(\"initialized\",torch.tensor(0))\n",
    "        self.logdet=logdet\n",
    "    \n",
    "    # 求出channel维度的均值和方差作为初始值\n",
    "    def initialize(self,input):\n",
    "        with torch.no_grad():\n",
    "            flatten=input.permute(1,0,2,3).contiguous().view(input.shape[1],-1)\n",
    "            mean=flatten.mean(1).unsqueeze(1).unsqueeze(2).unsqueeze(3).permute(1,0,2,3)\n",
    "            std=flatten.std(1).unsqueeze(1).unsqueeze(2).unsqueeze(3).permute(1,0,2,3)\n",
    "            self.bias.data.copy_(-mean)\n",
    "            self.scale.data.copy_(1/(std+1e-6)) # 防止数据下益\n",
    "    def forward(self,input):\n",
    "        bs,channel,height,width=input.shape\n",
    "        if self.initialized.item()==0:\n",
    "            self.initialize(input)\n",
    "            self.initialized.fill_(1)\n",
    "        \n",
    "        y=(input+self.bias)*self.scale\n",
    "        \n",
    "        if self.logdet:\n",
    "            logdet=height*width*torch.sum(logabs(self.scale))\n",
    "            return y,logdet\n",
    "        else :\n",
    "            return y\n",
    "        \n",
    "    def reverse(self,input):\n",
    "        return (input-self.bias)/self.scale\n",
    "\n",
    "        "
   ]
  },
  {
   "cell_type": "code",
   "execution_count": 10,
   "id": "c0407787",
   "metadata": {},
   "outputs": [
    {
     "name": "stdout",
     "output_type": "stream",
     "text": [
      "torch.Size([3, 1, 28, 28]) tensor(-4.3492, grad_fn=<MulBackward0>)\n"
     ]
    }
   ],
   "source": [
    "actorn=Actnorm(1)\n",
    "x=torch.randn(3,1,28,28)\n",
    "x,logdet=actorn(x)\n",
    "print(x.shape,logdet)"
   ]
  },
  {
   "cell_type": "markdown",
   "id": "fad88d3d",
   "metadata": {},
   "source": [
    "![架构图](./table3.png)"
   ]
  },
  {
   "cell_type": "code",
   "execution_count": 11,
   "id": "1942a46f",
   "metadata": {},
   "outputs": [],
   "source": [
    "class InvConv2d(nn.Module):\n",
    "    def __init__(self,in_channel):\n",
    "        super(InvConv2d,self).__init__()\n",
    "        self.weight=nn.Parameter(torch.randn(in_channel,in_channel,1,1))\n",
    "    def forward(self,input):\n",
    "        bs,channel,height,width=input.shape\n",
    "        out=nn.functional.conv2d(input,self.weight)\n",
    "        logdet=height*width*torch.slogdet(self.weight.double())[1].float()\n",
    "        return out ,logdet\n",
    "    def reverse(self,input):\n",
    "        out=nn.functional.conv2d(input,self.weight.inverse().unsqueeze().unsqueeze(3))\n",
    "        return out\n"
   ]
  },
  {
   "cell_type": "code",
   "execution_count": 12,
   "id": "ec77b87e",
   "metadata": {},
   "outputs": [
    {
     "name": "stdout",
     "output_type": "stream",
     "text": [
      "-0.8537557755519303\n"
     ]
    },
    {
     "data": {
      "text/plain": [
       "(array([[-0.06235623,  0.99803367, -0.00636407],\n",
       "        [-0.87524214, -0.05161767,  0.48092287],\n",
       "        [ 0.47964872,  0.03555864,  0.87673981]]),\n",
       " array([[ 1.58774139, -0.90916651, -0.35487224],\n",
       "        [ 0.        ,  2.57267047, -0.15919743],\n",
       "        [ 0.        ,  0.        , -0.00605003]]))"
      ]
     },
     "execution_count": 12,
     "metadata": {},
     "output_type": "execute_result"
    }
   ],
   "source": [
    "weight=np.random.randn(3,3)\n",
    "q,d=la.qr(weight)\n",
    "print(sum(q[1,:]*q[:,1]))\n",
    "q,d"
   ]
  },
  {
   "cell_type": "code",
   "execution_count": 13,
   "id": "4c9d434e",
   "metadata": {},
   "outputs": [
    {
     "name": "stdout",
     "output_type": "stream",
     "text": [
      "[[-0.87524214 -0.05161767  0.48092287]\n",
      " [ 0.          1.00171114 -0.0406272 ]\n",
      " [ 0.          0.          1.14058925]]\n"
     ]
    },
    {
     "data": {
      "text/plain": [
       "array([-0.87524214,  1.00171114,  1.14058925])"
      ]
     },
     "execution_count": 13,
     "metadata": {},
     "output_type": "execute_result"
    }
   ],
   "source": [
    "p,l,u=la.lu(q)\n",
    "print(u)\n",
    "np.diag(u)"
   ]
  },
  {
   "cell_type": "code",
   "execution_count": 14,
   "id": "5840522d",
   "metadata": {},
   "outputs": [
    {
     "data": {
      "text/plain": [
       "array([[ 0.        , -0.05161767,  0.48092287],\n",
       "       [ 0.        ,  0.        , -0.0406272 ],\n",
       "       [ 0.        ,  0.        ,  0.        ]])"
      ]
     },
     "execution_count": 14,
     "metadata": {},
     "output_type": "execute_result"
    }
   ],
   "source": [
    "np.triu(u,1)"
   ]
  },
  {
   "cell_type": "code",
   "execution_count": 15,
   "id": "6e4fef4b",
   "metadata": {},
   "outputs": [
    {
     "data": {
      "text/plain": [
       "array([[0., 1., 1.],\n",
       "       [0., 0., 1.],\n",
       "       [0., 0., 0.]])"
      ]
     },
     "execution_count": 15,
     "metadata": {},
     "output_type": "execute_result"
    }
   ],
   "source": [
    "np.triu(np.ones_like(u),1)"
   ]
  },
  {
   "cell_type": "code",
   "execution_count": 16,
   "id": "b1e62e42",
   "metadata": {},
   "outputs": [
    {
     "data": {
      "text/plain": [
       "array([[0., 1., 0.],\n",
       "       [0., 0., 1.],\n",
       "       [1., 0., 0.]], dtype=float32)"
      ]
     },
     "execution_count": 16,
     "metadata": {},
     "output_type": "execute_result"
    }
   ],
   "source": [
    "r_weight=np.random.randn(3,3)\n",
    "q,r=la.qr(r_weight)\n",
    "p,l,u=la.lu(q.astype(np.float32))\n",
    "s=np.diag(u)\n",
    "u=np.triu(u,1)\n",
    "\n",
    "u_mask=np.triu(np.ones_like(u),1)\n",
    "l_mask=u_mask.T\n",
    "l_eye=np.eye(l_mask.shape[0])\n",
    "# weight=p@(l*l_mask+l_eye)@(u*u_mask+torch.diag(s_sign*torch.exp(s)))\n",
    "\n",
    "p"
   ]
  },
  {
   "cell_type": "code",
   "execution_count": 17,
   "id": "5de4ffff",
   "metadata": {},
   "outputs": [
    {
     "name": "stdout",
     "output_type": "stream",
     "text": [
      "[[ 0.          0.43694776 -0.26399288]\n",
      " [ 0.          0.          0.533548  ]\n",
      " [ 0.          0.          0.        ]] [2.3628647 2.4113631 3.7481303]\n"
     ]
    },
    {
     "data": {
      "text/plain": [
       "(3, 3)"
      ]
     },
     "execution_count": 17,
     "metadata": {},
     "output_type": "execute_result"
    }
   ],
   "source": [
    "l*l_mask+l_eye\n",
    "print(u*u_mask,np.exp(s))\n",
    "u*u_mask+np.diag(np.exp(s))\n",
    "np.diag(np.exp(s)).shape"
   ]
  },
  {
   "cell_type": "code",
   "execution_count": 18,
   "id": "6e6b9f98",
   "metadata": {},
   "outputs": [],
   "source": [
    "class InvConv2d_lu(nn.Module):\n",
    "    def __init__(self,in_channel):\n",
    "        super(InvConv2d_lu,self).__init__()\n",
    "        weight=np.random.randn(in_channel,in_channel)\n",
    "        q,r=la.qr(weight)\n",
    "        p,l,u=la.lu(q.astype(np.float32))\n",
    "        s=np.diag(u)\n",
    "        u=np.triu(u,1)\n",
    "        u_mask=np.triu(np.ones_like(u),1)\n",
    "        l_mask=u_mask.T\n",
    "        \n",
    "        p=torch.from_numpy(p)\n",
    "        l=torch.from_numpy(l)\n",
    "        s=torch.from_numpy(s)\n",
    "        u=torch.from_numpy(u)\n",
    "        u_mask=torch.from_numpy(u_mask)\n",
    "        l_mask=torch.from_numpy(l_mask)\n",
    "        \n",
    "        self.register_buffer(\"p\",p)\n",
    "        self.register_buffer(\"u_mask\",u_mask)\n",
    "        self.register_buffer(\"l_mask\",l_mask)\n",
    "        self.register_buffer(\"s_sign\",torch.sign(s))\n",
    "        self.register_buffer(\"l_eye\",torch.eye(l_mask.shape[0]))\n",
    "        self.l=nn.Parameter(l)\n",
    "        self.s=nn.Parameter(logabs(s))\n",
    "        self.u=nn.Parameter(u)\n",
    "        \n",
    "    def calc_weight(self):\n",
    "        \n",
    "        weight=self.p@(self.l*self.l_mask+self.l_eye)@ \\\n",
    "        (self.u*self.u_mask+torch.diag(self.s_sign*torch.exp(self.s)))\n",
    "        return weight.unsqueeze(2).unsqueeze(3)\n",
    "    \n",
    "    def forward(self,input):\n",
    "        bs,channel,height,width=input.shape\n",
    "        weight=self.calc_weight()\n",
    "        out=nn.functional.conv2d(input,weight)\n",
    "        logdet=height*width*torch.sum(self.s)\n",
    "        return out ,logdet\n",
    "    \n",
    "    def reverse(self,input):\n",
    "        weight=self.calc_weight()\n",
    "        out=nn.functional.conv2d(input,weight.squeeze().inverse().unsqueeze(2).unsqueeze(3)) \n",
    "        return out\n"
   ]
  },
  {
   "cell_type": "code",
   "execution_count": 19,
   "id": "c542e9c6",
   "metadata": {},
   "outputs": [
    {
     "name": "stdout",
     "output_type": "stream",
     "text": [
      "torch.Size([3, 1, 28, 28]) tensor(0., grad_fn=<MulBackward0>)\n"
     ]
    },
    {
     "name": "stderr",
     "output_type": "stream",
     "text": [
      "/tmp/ipykernel_55920/2649664392.py:14: UserWarning: The given NumPy array is not writable, and PyTorch does not support non-writable tensors. This means writing to this tensor will result in undefined behavior. You may want to copy the array to protect its data or make it writable before converting it to a tensor. This type of warning will be suppressed for the rest of this program. (Triggered internally at ../torch/csrc/utils/tensor_numpy.cpp:206.)\n",
      "  s=torch.from_numpy(s)\n"
     ]
    }
   ],
   "source": [
    "invConv_lu=InvConv2d_lu(1)\n",
    "\n",
    "x,logdet=invConv_lu(x)\n",
    "print(x.shape,logdet)"
   ]
  },
  {
   "cell_type": "code",
   "execution_count": 20,
   "id": "39567d4d",
   "metadata": {},
   "outputs": [
    {
     "data": {
      "text/plain": [
       "tensor([[0.]])"
      ]
     },
     "execution_count": 20,
     "metadata": {},
     "output_type": "execute_result"
    }
   ],
   "source": [
    "invConv_lu.u_mask"
   ]
  },
  {
   "cell_type": "markdown",
   "id": "e06da9bc",
   "metadata": {},
   "source": [
    "![架构图](./table3.png)"
   ]
  },
  {
   "cell_type": "code",
   "execution_count": 21,
   "id": "2a4e7cc5",
   "metadata": {},
   "outputs": [],
   "source": [
    "class ZeroConv2d(nn.Module):\n",
    "    def __init__(self,in_channel,out_channel,padding=1):\n",
    "        super().__init__()\n",
    "        self.conv=nn.Conv2d(in_channel,out_channel,3,padding)\n",
    "        self.conv.weight.data.zero_()\n",
    "        self.conv.bias.data.zero_()\n",
    "        self.scale=nn.Parameter(torch.zeros(1,out_channel,1,1))\n",
    "    def forward(self,input):\n",
    "        out=nn.functional.pad(input,[1,1,1,1],value=1)\n",
    "        out=self.conv(out)\n",
    "        out=out*torch.exp(self.scale*3)\n",
    "        return out"
   ]
  },
  {
   "cell_type": "code",
   "execution_count": 22,
   "id": "9f90222c",
   "metadata": {},
   "outputs": [
    {
     "data": {
      "text/plain": [
       "torch.Size([3, 10, 28, 28])"
      ]
     },
     "execution_count": 22,
     "metadata": {},
     "output_type": "execute_result"
    }
   ],
   "source": [
    "zeroConv=ZeroConv2d(1,10)\n",
    "zeroConv(x).shape"
   ]
  },
  {
   "cell_type": "code",
   "execution_count": 23,
   "id": "6501641d",
   "metadata": {},
   "outputs": [],
   "source": [
    "class AffineCoupling(nn.Module):\n",
    "    def __init__(self,in_channel,filter_size=512,affine=True):\n",
    "        super(AffineCoupling,self).__init__()\n",
    "        self.affine=affine\n",
    "        self.net=nn.Sequential(\n",
    "        nn.Conv2d(in_channel//2,filter_size,3,padding=1),\n",
    "        nn.ReLU(inplace=True),\n",
    "        nn.Conv2d(filter_size,filter_size,1),\n",
    "        nn.ReLU(inplace=True),\n",
    "        ZeroConv2d(filter_size,in_channel if self.affine else in_channel//2)\n",
    "        )\n",
    "        \n",
    "        self.net[0].weight.data.normal_(0,0.05)\n",
    "        self.net[0].bias.data.zero_()\n",
    "        self.net[2].weight.data.normal_(0,0.05)\n",
    "        self.net[2].bias.data.zero_()     \n",
    "    def forward(self,input):\n",
    "        in_a,in_b=input.chunk(2,1)\n",
    "        if self.affine:\n",
    "            logs,t=self.net(in_b).chunk(2,1)\n",
    "            y_a=torch.exp(logs)*in_a+t\n",
    "            y_b=in_b\n",
    "            logdet=torch.sum(logabs(torch.exp(logs)))\n",
    "        else:\n",
    "            y_b=in_b\n",
    "            y_a=in_a+self.net(in_b)\n",
    "            logdet=None\n",
    "#         return y_a,y_b\n",
    "        return torch.cat([y_a,y_b],1),logdet\n",
    "    def reverse(self,output):\n",
    "        y_a,y_b=output.chunk(2,1)\n",
    "        if self.affine:\n",
    "            in_b=y_b\n",
    "            logs,t=self.net(in_b).chunk(2, 1)\n",
    "            in_a=(y_a-t)/torch.exp(logs)\n",
    "        else :\n",
    "            in_b=y_b\n",
    "            in_a=self.net(in_b)-y_a\n",
    "        return torch.cat([in_a,in_b],1)   "
   ]
  },
  {
   "cell_type": "code",
   "execution_count": 24,
   "id": "eac2765d",
   "metadata": {},
   "outputs": [
    {
     "data": {
      "text/plain": [
       "(torch.Size([3, 4, 28, 28]), tensor(0., grad_fn=<SumBackward0>))"
      ]
     },
     "execution_count": 24,
     "metadata": {},
     "output_type": "execute_result"
    }
   ],
   "source": [
    "affCoup=AffineCoupling(4)\n",
    "a,b=affCoup(torch.randn(3,4,28,28))\n",
    "\n",
    "a.shape,b"
   ]
  },
  {
   "cell_type": "code",
   "execution_count": 25,
   "id": "41428b99",
   "metadata": {},
   "outputs": [
    {
     "data": {
      "text/plain": [
       "tensor([0.0299, 0.9765])"
      ]
     },
     "execution_count": 25,
     "metadata": {},
     "output_type": "execute_result"
    }
   ],
   "source": [
    "torch.diag(torch.randn(2,2))"
   ]
  },
  {
   "cell_type": "code",
   "execution_count": 26,
   "id": "0f802b89",
   "metadata": {},
   "outputs": [],
   "source": [
    "        \n",
    "class Flow(nn.Module):\n",
    "    def __init__(self,in_channel,affine=True,conv_lu=True):\n",
    "        super(Flow,self).__init__()\n",
    "        self.actorm=Actnorm(in_channel)\n",
    "        if conv_lu:\n",
    "            self.invConv2d=InvConv2d_lu(in_channel)\n",
    "        else:\n",
    "            self.invConv2d=InvConv2d(in_channel)\n",
    "        self.coupling=AffineCoupling(in_channel,256)\n",
    "    def forward(self,input):\n",
    "        out,det1=self.actorm(input)\n",
    "        out,det2=self.invConv2d(out)\n",
    "        out,det3=self.coupling(out)\n",
    "        logdet=det1+det2\n",
    "        if det3 is not None:\n",
    "            logdet+=det3\n",
    "        return out,logdet\n",
    "    \n",
    "    def reverse(self,output):\n",
    "        input_=self.coupling.reverse(output)\n",
    "        input_=self.invConv2d.reverse(input_)\n",
    "        input_=self.actorm.reverse(input_)\n",
    "        return input_\n",
    "    \n",
    "        "
   ]
  },
  {
   "cell_type": "code",
   "execution_count": 27,
   "id": "513d92fc",
   "metadata": {},
   "outputs": [
    {
     "data": {
      "text/plain": [
       "(torch.Size([3, 4, 14, 14]), tensor(2.3917, grad_fn=<AddBackward0>))"
      ]
     },
     "execution_count": 27,
     "metadata": {},
     "output_type": "execute_result"
    }
   ],
   "source": [
    "flow=Flow(4)\n",
    "a,b=flow(torch.randn(3,4,14,14))\n",
    "a.shape,b"
   ]
  },
  {
   "cell_type": "markdown",
   "id": "70bb9303",
   "metadata": {},
   "source": [
    "![架构图](./architecture.png)"
   ]
  },
  {
   "cell_type": "code",
   "execution_count": 28,
   "id": "be752def",
   "metadata": {},
   "outputs": [],
   "source": [
    "def gaussian_log_p(x,mean,log_std):\n",
    "    return -0.5*math.log(2* math.pi)-log_std-0.5*(x-mean)**2/torch.exp(2*log_std)\n",
    "\n",
    "\n",
    "def gaussian_sample(eps,mean,log_std):\n",
    "    return mean+torch.exp(log_std)*eps"
   ]
  },
  {
   "cell_type": "code",
   "execution_count": 29,
   "id": "928fdd3f",
   "metadata": {},
   "outputs": [],
   "source": [
    "class Block(nn.Module):\n",
    "    def __init__(self,in_channel,n_flow,split=True,affine=True,conv_lu=True):\n",
    "        super().__init__()\n",
    "        squeeze_dim=in_channel*4\n",
    "        self.flows=nn.ModuleList()\n",
    "        for i in range(n_flow):\n",
    "            self.flows.append(Flow(squeeze_dim,affine=affine,conv_lu=conv_lu))\n",
    "        self.split=split\n",
    "        \n",
    "        if split:\n",
    "            self.prior=ZeroConv2d(in_channel*2,in_channel*4)\n",
    "        else: \n",
    "            self.prior=ZeroConv2d(in_channel*4,in_channel*8)\n",
    "        \n",
    "    def forward(self,input):\n",
    "        bs,n_channel,height,width=input.shape\n",
    "        squeezed=input.view(bs,n_channel,height//2,2,width//2,2)\n",
    "        squeezed=squeezed.permute(0,1,3,5,2,4)\n",
    "        out=squeezed.contiguous().view(bs,n_channel*4,height//2,width//2)\n",
    "        logdet=0\n",
    "\n",
    "        for flow in self.flows:\n",
    "            out,det=flow(out)\n",
    "            logdet+=det\n",
    "        \n",
    "        if self.split:\n",
    "            out,z_new=out.chunk(2,1)\n",
    "            mean,logstd=self.prior(out).chunk(2,1)\n",
    "            log_p=gaussian_log_p(out,mean,logstd)\n",
    "            log_p=log_p.view(bs,-1).sum(1)\n",
    "            \n",
    "        else:\n",
    "            zero=torch.zeros_like(out)\n",
    "            mean,logstd=self.prior(zero).chunk(2,1)\n",
    "            log_p=gaussian_log_p(out,mean,logstd)\n",
    "            log_p=log_p.view(bs,-1).sum(1)\n",
    "            z_new=out\n",
    "        return out,logdet,log_p,z_new\n",
    "    \n",
    "    def reverse(self,output,eps=None,reconstruct=False):\n",
    "        input=output\n",
    "        \n",
    "        if reconstruct:\n",
    "            if self.split:\n",
    "                input=torch.cat([output,eps],1)\n",
    "            else:\n",
    "                input=eps\n",
    "        else:\n",
    "            if self.split:\n",
    "                mean,logstd=self.prior(input).chunk(2,1)\n",
    "                z=gaussian_sample(eps,mean,logstd)\n",
    "                input=torch.cat([output,z],1)\n",
    "                \n",
    "            else:\n",
    "                zero=torch.zeros_like(input)\n",
    "                mean,logstd=self.prior(zero).chunk(2,1)\n",
    "                z=gaussian_sample(eps,mean,logstd)\n",
    "                input=z\n",
    "        for flow in self.flows[::-1]:\n",
    "            input=flow.reverse(input)\n",
    "            \n",
    "        bs,n_channel,height,width=input.shape\n",
    "        unsqueezed=input.view(bs,n_channel//4,2,2,height,width)\n",
    "        unsqueezed=unsqueezed.permute(0,1,4,2,5,3)\n",
    "        unsqueezed=unsqueezed.contiguous().view(bs,n_channel//4,height*2,width*2)\n",
    "        \n",
    "        return unsqueezed\n",
    "  "
   ]
  },
  {
   "cell_type": "code",
   "execution_count": 30,
   "id": "f56f0eb9",
   "metadata": {},
   "outputs": [
    {
     "data": {
      "text/plain": [
       "(torch.Size([3, 2, 14, 14]),\n",
       " tensor(-9.0875, grad_fn=<AddBackward0>),\n",
       " tensor([-551.6480, -554.0338, -555.1552], grad_fn=<SumBackward1>),\n",
       " torch.Size([3, 2, 14, 14]))"
      ]
     },
     "execution_count": 30,
     "metadata": {},
     "output_type": "execute_result"
    }
   ],
   "source": [
    "block=Block(1,2)\n",
    "out,logdet,log_p,z_new=block(torch.randn(3,1,28,28))\n",
    "out.shape,logdet,log_p,z_new.shape"
   ]
  },
  {
   "cell_type": "code",
   "execution_count": 31,
   "id": "2f81b271",
   "metadata": {},
   "outputs": [
    {
     "data": {
      "text/plain": [
       "tensor([[[[0., 0., 0., 0.],\n",
       "          [0., 0., 0., 0.],\n",
       "          [0., 0., 0., 0.]],\n",
       "\n",
       "         [[0., 0., 0., 0.],\n",
       "          [0., 0., 0., 0.],\n",
       "          [0., 0., 0., 0.]],\n",
       "\n",
       "         [[0., 0., 0., 0.],\n",
       "          [0., 0., 0., 0.],\n",
       "          [0., 0., 0., 0.]],\n",
       "\n",
       "         [[0., 0., 0., 0.],\n",
       "          [0., 0., 0., 0.],\n",
       "          [0., 0., 0., 0.]]]], grad_fn=<MulBackward0>)"
      ]
     },
     "execution_count": 31,
     "metadata": {},
     "output_type": "execute_result"
    }
   ],
   "source": [
    "prior=ZeroConv2d(1*2,1*4)\n",
    "prior(torch.zeros(1,2,3,4))"
   ]
  },
  {
   "cell_type": "code",
   "execution_count": 32,
   "id": "64cbc677",
   "metadata": {},
   "outputs": [],
   "source": [
    "class Glow(nn.Module):\n",
    "    def __init__(self,in_channel,n_flow,n_block,affine=True,conv_lu=True):\n",
    "        super().__init__()\n",
    "        self.blocks=nn.ModuleList()\n",
    "        n_channel=in_channel\n",
    "        for i in range(n_block-1):\n",
    "            self.blocks.append(Block(n_channel,n_flow,affine,conv_lu))\n",
    "            n_channel*=2\n",
    "        self.blocks.append(Block(n_channel,n_flow,split=False,affine=affine))\n",
    "        \n",
    "    def forward(self,input):\n",
    "        log_p_sum=0\n",
    "        logdet=0\n",
    "        out=input\n",
    "        z_outs=[]\n",
    "        for block in self.blocks:\n",
    "            out,det,log_p,z_new=block(out)\n",
    "            z_outs.append(z_new)\n",
    "            logdet=logdet+det\n",
    "            \n",
    "            if log_p is not None:\n",
    "                log_p_sum=log_p_sum+log_p\n",
    "        return log_p_sum,logdet,z_outs\n",
    "    \n",
    "    def reverse(self,z_list,reconstruct=False):\n",
    "        for i,block in enumerate(self.blocks[::-1]):\n",
    "            if i ==0:\n",
    "                input=block.reverse(z_list[-1],z_list[-1],reconstruct=reconstruct)\n",
    "                \n",
    "            else:\n",
    "                input=block.reverse(input,z_list[-(i+1)],reconstruct=reconstruct)\n",
    "        return input"
   ]
  },
  {
   "cell_type": "code",
   "execution_count": 33,
   "id": "dd8b3ab3",
   "metadata": {},
   "outputs": [
    {
     "data": {
      "text/plain": [
       "(torch.Size([256]),\n",
       " tensor(2138.2490, grad_fn=<AddBackward0>),\n",
       " [torch.Size([256, 2, 16, 16]),\n",
       "  torch.Size([256, 4, 8, 8]),\n",
       "  torch.Size([256, 8, 4, 4]),\n",
       "  torch.Size([256, 32, 2, 2])])"
      ]
     },
     "execution_count": 33,
     "metadata": {},
     "output_type": "execute_result"
    }
   ],
   "source": [
    "glow=Glow(n_channel,n_flow,n_block)\n",
    "log_p_sum,logdet,z_outs = glow(data[0])\n",
    "log_p_sum.shape,logdet,[z.shape for z in z_outs]"
   ]
  },
  {
   "cell_type": "code",
   "execution_count": 34,
   "id": "cb5e5981",
   "metadata": {},
   "outputs": [
    {
     "data": {
      "text/plain": [
       "tensor([[[[-0.0092, -0.1461, -0.1222,  ..., -0.0801,  0.6069,  0.6094],\n",
       "          [-0.1198, -0.2296, -0.2038,  ..., -0.3971,  0.6273,  0.4009],\n",
       "          [-0.1194, -0.1840,  0.0813,  ...,  0.4662,  0.4477, -0.0240],\n",
       "          ...,\n",
       "          [ 0.3498,  0.3995,  0.4003,  ...,  0.1114,  0.5412,  0.3976],\n",
       "          [ 0.7509,  0.7893,  0.0171,  ..., -0.1114,  0.5454,  0.2837],\n",
       "          [ 0.6350,  0.6051,  0.0071,  ..., -0.1497,  0.5449,  0.3159]]],\n",
       "\n",
       "\n",
       "        [[[-0.0287,  0.0684,  0.1607,  ...,  0.2297,  0.2054, -0.1111],\n",
       "          [ 0.0803,  0.0906,  0.2935,  ...,  0.2281,  0.0389, -0.2083],\n",
       "          [ 0.0462, -0.1441,  0.1434,  ..., -0.3742,  0.5466,  0.6132],\n",
       "          ...,\n",
       "          [-0.2792, -0.1184, -0.3212,  ..., -0.5314,  0.3228,  0.3883],\n",
       "          [ 0.1396, -0.0015,  0.2951,  ..., -0.1277, -0.2007, -0.2213],\n",
       "          [ 0.0754, -0.0912,  0.4376,  ..., -0.0491, -0.1486, -0.1754]]],\n",
       "\n",
       "\n",
       "        [[[-0.0713, -0.1787,  0.1764,  ..., -0.0458,  0.2741,  0.2124],\n",
       "          [-0.2731, -0.2565,  0.1434,  ..., -0.1310, -0.0113, -0.0616],\n",
       "          [-0.1583, -0.0493,  0.2727,  ...,  0.2367, -0.0668,  0.1248],\n",
       "          ...,\n",
       "          [ 0.1265, -0.0942,  0.3284,  ...,  0.0575, -0.4264, -0.3090],\n",
       "          [-0.3207, -0.6465,  0.4234,  ...,  0.0841, -0.4122, -0.3748],\n",
       "          [-0.2074, -0.4186,  0.4901,  ..., -0.1272, -0.5055, -0.5064]]],\n",
       "\n",
       "\n",
       "        ...,\n",
       "\n",
       "\n",
       "        [[[ 0.7974,  0.7781,  0.2503,  ...,  0.1870, -0.1202,  0.1569],\n",
       "          [ 0.9278,  0.8170, -0.0265,  ...,  0.1599, -0.1231, -0.0163],\n",
       "          [ 0.3158,  0.2765,  0.0478,  ..., -0.1615, -0.2184, -0.1745],\n",
       "          ...,\n",
       "          [ 0.0186,  0.1190,  0.0105,  ..., -0.1168, -0.1282,  0.0369],\n",
       "          [ 0.1089,  0.0967,  0.0243,  ..., -0.4367, -0.3197, -0.2308],\n",
       "          [ 0.2760,  0.3615,  0.0223,  ..., -0.2627, -0.2917, -0.2759]]],\n",
       "\n",
       "\n",
       "        [[[ 0.1782,  0.3857,  0.1434,  ..., -0.0857,  0.0405,  0.0247],\n",
       "          [ 0.2709,  0.5538,  0.1648,  ...,  0.0032,  0.0905,  0.0571],\n",
       "          [ 0.1041,  0.2508,  0.1639,  ..., -0.3380, -0.3786, -0.3123],\n",
       "          ...,\n",
       "          [-0.0111, -0.0320, -0.3854,  ...,  0.0964, -0.1806, -0.1243],\n",
       "          [-0.1490, -0.2433, -0.1802,  ...,  0.1016, -0.1037, -0.3391],\n",
       "          [-0.1253, -0.1344, -0.1453,  ..., -0.0991, -0.3270, -0.5200]]],\n",
       "\n",
       "\n",
       "        [[[-0.3103, -0.2414, -0.2600,  ..., -0.0770, -0.1828, -0.1685],\n",
       "          [-0.2522, -0.2089, -0.2692,  ...,  0.1244, -0.3532, -0.4559],\n",
       "          [-0.1947, -0.0314, -0.0616,  ..., -0.3971,  0.0063, -0.0970],\n",
       "          ...,\n",
       "          [-0.1714, -0.0943,  0.5661,  ...,  0.8430,  0.0537, -0.0309],\n",
       "          [-0.2278, -0.2292,  0.1216,  ...,  0.0501, -0.0688, -0.1251],\n",
       "          [-0.2771, -0.4258,  0.1458,  ...,  0.2987, -0.1033,  0.0140]]]],\n",
       "       grad_fn=<ViewBackward0>)"
      ]
     },
     "execution_count": 34,
     "metadata": {},
     "output_type": "execute_result"
    }
   ],
   "source": [
    "glow.reverse(z_samples)"
   ]
  },
  {
   "cell_type": "markdown",
   "id": "76697f2f",
   "metadata": {},
   "source": [
    "# 优化器"
   ]
  },
  {
   "cell_type": "code",
   "execution_count": 35,
   "id": "4bd5c81f",
   "metadata": {},
   "outputs": [],
   "source": [
    "glow=Glow(n_channel,n_flow,n_block)\n",
    "glow.to(device)\n",
    "optimizer=torch.optim.Adam(glow.parameters(),1e-5)"
   ]
  },
  {
   "cell_type": "markdown",
   "id": "7dbdd56c",
   "metadata": {},
   "source": [
    "# 损失函数计算"
   ]
  },
  {
   "cell_type": "code",
   "execution_count": 36,
   "id": "c0bcdd33",
   "metadata": {},
   "outputs": [],
   "source": [
    "def calc_loss(logp,logdet,imagesize):\n",
    "    n_pixel = image_size * image_size * 1\n",
    "    loss=logdet+logp\n",
    "    return -loss.mean()/n_pixel,logp.mean()/n_pixel,logdet.mean()/n_pixel"
   ]
  },
  {
   "cell_type": "code",
   "execution_count": 37,
   "id": "2bfa6e49",
   "metadata": {},
   "outputs": [],
   "source": [
    "def calc_z_shapes(n_channel,input_size,n_flow,n_block):\n",
    "    z_shapes=[]\n",
    "    for i in range(n_block-1):\n",
    "        input_size//=2\n",
    "        n_channel*=2\n",
    "        z_shapes.append((n_channel,input_size,input_size))\n",
    "    input_size//=2\n",
    "    z_shapes.append((n_channel*4,input_size,input_size))\n",
    "    return z_shapes"
   ]
  },
  {
   "cell_type": "code",
   "execution_count": 38,
   "id": "ad6b22fa",
   "metadata": {},
   "outputs": [
    {
     "ename": "NameError",
     "evalue": "name 'args' is not defined",
     "output_type": "error",
     "traceback": [
      "\u001b[0;31m---------------------------------------------------------------------------\u001b[0m",
      "\u001b[0;31mNameError\u001b[0m                                 Traceback (most recent call last)",
      "Cell \u001b[0;32mIn[38], line 2\u001b[0m\n\u001b[1;32m      1\u001b[0m n_bits\u001b[38;5;241m=\u001b[39m\u001b[38;5;241m5\u001b[39m\n\u001b[0;32m----> 2\u001b[0m n_bins \u001b[38;5;241m=\u001b[39m \u001b[38;5;241m2.0\u001b[39m \u001b[38;5;241m*\u001b[39m\u001b[38;5;241m*\u001b[39m \u001b[43margs\u001b[49m\u001b[38;5;241m.\u001b[39mn_bits\n\u001b[1;32m      3\u001b[0m z_sample\u001b[38;5;241m=\u001b[39m[]\n\u001b[1;32m      4\u001b[0m z_shapes\u001b[38;5;241m=\u001b[39mcalc_z_shapes(\u001b[38;5;241m1\u001b[39m,image_size,n_flow,n_block)\n",
      "\u001b[0;31mNameError\u001b[0m: name 'args' is not defined"
     ]
    }
   ],
   "source": [
    "n_bits=5\n",
    "n_bins = 2.0 ** args.n_bits\n",
    "z_sample=[]\n",
    "z_shapes=calc_z_shapes(1,image_size,n_flow,n_block)\n",
    "for z in z_shapes:\n",
    "    z_new=torch.randn(n_sampls,*z)\n",
    "    z_sample.append(z_new.to(device))\n",
    "index=0\n",
    "EPOCHS=100\n",
    "for epoch in range(EPOCHS):\n",
    "    for data,label in mnist:\n",
    "        x=data.to(device)\n",
    "        x = x * 255\n",
    "        x = torch.floor(x / 2 ** (8 - n_bits))\n",
    "        x = x / n_bins - 0.5\n",
    "       \n",
    "        if index==0:\n",
    "            with torch.no_grad():\n",
    "                log_p,logdet,_=glow(x+ torch.rand_like(x) / n_bins)\n",
    "                index+=1\n",
    "                continue\n",
    "        else:\n",
    "            log_p,logdet,_=glow(x+torch.rand_like(x) / n_bins)\n",
    "            index+=1\n",
    "        logdet=logdet.mean()\n",
    "        \n",
    "        loss,log_p,log_det=calc_loss(log_p,logdet,image_size)\n",
    "        glow.zero_grad()\n",
    "        loss.backward()\n",
    "        optimizer.step()\n",
    "      \n",
    "        if index%50==0:\n",
    "            print(f\"epoch {epoch} index : {index}, loss {loss} , logdet :{log_det}\")\n",
    "            with torch.no_grad():\n",
    "                os.makedirs(\"sample\",exist_ok=True)\n",
    "                save_image(\n",
    "                glow.reverse(z_sample).cpu().data,\n",
    "                    f\"sample/{ str(index).zfill(6)}.png\",\n",
    "                    normalize=True,\n",
    "                    nrow=5,\n",
    "                \n",
    "                )"
   ]
  },
  {
   "cell_type": "code",
   "execution_count": null,
   "id": "61c6e35f",
   "metadata": {},
   "outputs": [],
   "source": [
    "glow"
   ]
  },
  {
   "cell_type": "code",
   "execution_count": null,
   "id": "77e93faf",
   "metadata": {},
   "outputs": [],
   "source": []
  },
  {
   "cell_type": "code",
   "execution_count": null,
   "id": "dea2d13e",
   "metadata": {},
   "outputs": [],
   "source": []
  },
  {
   "cell_type": "code",
   "execution_count": null,
   "id": "4eedb360",
   "metadata": {},
   "outputs": [],
   "source": []
  },
  {
   "cell_type": "code",
   "execution_count": null,
   "id": "901437fc",
   "metadata": {},
   "outputs": [],
   "source": []
  },
  {
   "cell_type": "code",
   "execution_count": null,
   "id": "65464f28",
   "metadata": {},
   "outputs": [],
   "source": []
  }
 ],
 "metadata": {
  "kernelspec": {
   "display_name": "tts",
   "language": "python",
   "name": "tts"
  },
  "language_info": {
   "codemirror_mode": {
    "name": "ipython",
    "version": 3
   },
   "file_extension": ".py",
   "mimetype": "text/x-python",
   "name": "python",
   "nbconvert_exporter": "python",
   "pygments_lexer": "ipython3",
   "version": "3.10.1"
  }
 },
 "nbformat": 4,
 "nbformat_minor": 5
}
