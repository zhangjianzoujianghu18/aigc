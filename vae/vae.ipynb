{
 "cells": [
  {
   "cell_type": "code",
   "execution_count": 1,
   "id": "59ace932",
   "metadata": {},
   "outputs": [
    {
     "name": "stderr",
     "output_type": "stream",
     "text": [
      "/home/waj/anaconda3/envs/tts/lib/python3.10/site-packages/transformers/utils/hub.py:124: FutureWarning: Using `TRANSFORMERS_CACHE` is deprecated and will be removed in v5 of Transformers. Use `HF_HOME` instead.\n",
      "  warnings.warn(\n"
     ]
    }
   ],
   "source": [
    "# 1 import package\n",
    "import torch\n",
    "import torch.nn as nn\n",
    "from torch.utils.data import DataLoader,Dataset\n",
    "from torchvision import datasets\n",
    "from torchvision.utils import save_image\n",
    "from torchvision import transforms\n",
    "import os\n",
    "import matplotlib.pyplot as plt"
   ]
  },
  {
   "cell_type": "code",
   "execution_count": 2,
   "id": "0d45331e",
   "metadata": {},
   "outputs": [],
   "source": [
    "BATCH_SIZE=512\n",
    "EPOCHS=1000\n",
    "image_size=28\n",
    "channel=1\n",
    "z_dim=128\n",
    "device=torch.device(\"cuda\")"
   ]
  },
  {
   "cell_type": "markdown",
   "id": "da8363ff",
   "metadata": {},
   "source": [
    "\n",
    "\n",
    "# 1 data loader "
   ]
  },
  {
   "cell_type": "code",
   "execution_count": 3,
   "id": "8f0b881a",
   "metadata": {},
   "outputs": [
    {
     "name": "stdout",
     "output_type": "stream",
     "text": [
      "torch.Size([512, 1, 28, 28])\n"
     ]
    },
    {
     "data": {
      "image/png": "[encoded data removed]",
      "text/plain": [
       "<Figure size 640x480 with 1 Axes>"
      ]
     },
     "metadata": {},
     "output_type": "display_data"
    }
   ],
   "source": [
    "# 1 data loader \n",
    "dataset=datasets.MNIST(\"../data/\",train=True,transform=transforms.Compose([\n",
    "    transforms.Resize(28),transforms.ToTensor(),transforms.Normalize(0.5,0.5)\n",
    "]))\n",
    "mnist=DataLoader(dataset,shuffle=True,batch_size=BATCH_SIZE,drop_last=True)\n",
    "\n",
    "def show_mnist_image(image_array, label):\n",
    "    plt.imshow(image_array, cmap='Greys')\n",
    "    plt.title(f\"Label: {label}\")\n",
    "    \n",
    "for data in mnist:\n",
    "    print(data[0].shape)\n",
    "    show_mnist_image(data[0][0][0], data[1][0])\n",
    "    break"
   ]
  },
  {
   "cell_type": "markdown",
   "id": "a08923a1",
   "metadata": {},
   "source": [
    "# 2 define Encoder Model"
   ]
  },
  {
   "cell_type": "code",
   "execution_count": 4,
   "id": "0b87dae2",
   "metadata": {},
   "outputs": [],
   "source": [
    "# encode  model\n",
    "# input: image ,output :mean ,std\n",
    "\n",
    "class Encoder(nn.Module):\n",
    "    def __init__(self,z_dim):\n",
    "        super(Encoder,self).__init__()\n",
    "        self.model=nn.Sequential(\n",
    "        nn.Linear(image_size*image_size,1024),\n",
    "            nn.ReLU(),\n",
    "            nn.BatchNorm1d(1024),\n",
    "            nn.Linear(1024,512),\n",
    "            nn.ReLU(),\n",
    "            nn.Linear(512,128),\n",
    "            nn.ReLU(),\n",
    "            nn.Linear(128,z_dim),\n",
    "            nn.ReLU(),\n",
    "            nn.Linear(z_dim,2)\n",
    "        )\n",
    "    def forward(self,x):\n",
    "        x=x.view(BATCH_SIZE,-1)\n",
    "        y=self.model(x)\n",
    "        return y\n",
    "        "
   ]
  },
  {
   "cell_type": "code",
   "execution_count": 6,
   "id": "cbc4703c",
   "metadata": {},
   "outputs": [
    {
     "name": "stdout",
     "output_type": "stream",
     "text": [
      "torch.Size([512, 1, 28, 28])\n"
     ]
    },
    {
     "data": {
      "text/plain": [
       "torch.Size([512, 2])"
      ]
     },
     "execution_count": 6,
     "metadata": {},
     "output_type": "execute_result"
    }
   ],
   "source": [
    "image_fake=torch.randn(BATCH_SIZE,channel,image_size,image_size)\n",
    "print(image_fake.shape)\n",
    "e_model=Encoder(z_dim)\n",
    "z=e_model(image_fake)\n",
    "z.shape"
   ]
  },
  {
   "cell_type": "markdown",
   "id": "f2599e6d",
   "metadata": {},
   "source": [
    "# 3 define Decder model"
   ]
  },
  {
   "cell_type": "code",
   "execution_count": 8,
   "id": "4dffce5e",
   "metadata": {},
   "outputs": [],
   "source": [
    "# decode model\n",
    "\n",
    "class Decoder(nn.Module):\n",
    "    def __init__(self,z_dim):\n",
    "        super(Decoder,self).__init__()\n",
    "        self.model=nn.Sequential(\n",
    "            nn.Linear(z_dim,128),\n",
    "            nn.ReLU(),\n",
    "            nn.Linear(128,512),\n",
    "            nn.ReLU(),\n",
    "            nn.Linear(512,1024),\n",
    "            nn.BatchNorm1d(1024),\n",
    "            nn.ReLU(),\n",
    "            nn.Linear(1024,image_size*image_size),\n",
    "            nn.Tanh()\n",
    "        )\n",
    "    def forward(self,x):\n",
    "        y=self.model(x)\n",
    "        return y"
   ]
  },
  {
   "cell_type": "code",
   "execution_count": 12,
   "id": "771b394d",
   "metadata": {},
   "outputs": [
    {
     "name": "stdout",
     "output_type": "stream",
     "text": [
      "torch.Size([512, 128])\n"
     ]
    },
    {
     "data": {
      "text/plain": [
       "torch.Size([512, 784])"
      ]
     },
     "execution_count": 12,
     "metadata": {},
     "output_type": "execute_result"
    }
   ],
   "source": [
    "test_x=torch.randn(BATCH_SIZE,z_dim)\n",
    "print(test_x.shape)\n",
    "d_model=Decoder(z_dim)\n",
    "d_model(test_x).shape"
   ]
  },
  {
   "cell_type": "markdown",
   "id": "6bfcd221",
   "metadata": {},
   "source": [
    "# 4 Encoder and Decoder model"
   ]
  },
  {
   "cell_type": "code",
   "execution_count": 14,
   "id": "a5df2d39",
   "metadata": {},
   "outputs": [],
   "source": [
    "class EncoderDecoder(nn.Module):\n",
    "    def __init__(self,z_dim):\n",
    "        super(EncoderDecoder,self).__init__()\n",
    "        self.encoder=Encoder(z_dim)\n",
    "        self.decoder=Decoder(z_dim)\n",
    "    def forward(self,x):\n",
    "        z=self.encoder(x)\n",
    "        mean=z[:,[0]]\n",
    "        logvar=z[:,[1]]\n",
    "        norm_std=torch.randn(BATCH_SIZE,z_dim).to(device)\n",
    "        new_z=mean+norm_std*torch.exp(logvar*0.5)\n",
    "        decoder_x=self.decoder(new_z)\n",
    "        return decoder_x,mean,logvar"
   ]
  },
  {
   "cell_type": "code",
   "execution_count": 15,
   "id": "4ea5a699",
   "metadata": {},
   "outputs": [
    {
     "name": "stdout",
     "output_type": "stream",
     "text": [
      "torch.Size([512, 784]) torch.Size([512, 1])\n"
     ]
    }
   ],
   "source": [
    "ed_model=EncoderDecoder(z_dim).to(device)\n",
    "(gx,mean,logvar)=ed_model(image_fake.to(device))\n",
    "print(gx.shape,mean.shape)"
   ]
  },
  {
   "cell_type": "markdown",
   "id": "aa797c56",
   "metadata": {},
   "source": [
    "# 5 optimizer "
   ]
  },
  {
   "cell_type": "code",
   "execution_count": 16,
   "id": "df6b8acd",
   "metadata": {},
   "outputs": [],
   "source": [
    "ed_optim=torch.optim.Adam(ed_model.parameters(),5e-5)\n"
   ]
  },
  {
   "cell_type": "markdown",
   "id": "050a54c3",
   "metadata": {},
   "source": [
    "# 5 loss funciton "
   ]
  },
  {
   "cell_type": "code",
   "execution_count": 17,
   "id": "810a0257",
   "metadata": {},
   "outputs": [],
   "source": [
    "# 1 reconstruction loss\n",
    "loss_fn=nn.MSELoss()\n",
    "# 2 KL loss"
   ]
  },
  {
   "cell_type": "markdown",
   "id": "a35c4c51",
   "metadata": {},
   "source": [
    "# 6 train"
   ]
  },
  {
   "cell_type": "code",
   "execution_count": 18,
   "id": "46ac333e",
   "metadata": {},
   "outputs": [
    {
     "name": "stdout",
     "output_type": "stream",
     "text": [
      "epoch 0 ,step : 0 toral_Loss 1.0567762851715088 rec_loss 1.0533273220062256 kl_loss : 0.0034489899408072233\n",
      "epoch 1 ,step : 200 toral_Loss 0.2945965826511383 rec_loss 0.29406487941741943 kl_loss : 0.0005316918832249939\n",
      "epoch 3 ,step : 400 toral_Loss 0.26976943016052246 rec_loss 0.265224426984787 kl_loss : 0.00454501248896122\n",
      "epoch 5 ,step : 600 toral_Loss 0.2637917101383209 rec_loss 0.25476160645484924 kl_loss : 0.009030106477439404\n",
      "epoch 6 ,step : 800 toral_Loss 0.2620556056499481 rec_loss 0.2533837854862213 kl_loss : 0.00867181085050106\n",
      "epoch 8 ,step : 1000 toral_Loss 0.27019330859184265 rec_loss 0.26171672344207764 kl_loss : 0.008476595394313335\n",
      "epoch 10 ,step : 1200 toral_Loss 0.2599698305130005 rec_loss 0.2497628927230835 kl_loss : 0.010206932201981544\n",
      "epoch 11 ,step : 1400 toral_Loss 0.2577444016933441 rec_loss 0.247957244515419 kl_loss : 0.009787159040570259\n",
      "epoch 13 ,step : 1600 toral_Loss 0.2545132339000702 rec_loss 0.24488399922847748 kl_loss : 0.00962924025952816\n",
      "epoch 15 ,step : 1800 toral_Loss 0.25750669836997986 rec_loss 0.24760304391384125 kl_loss : 0.00990366656333208\n",
      "epoch 17 ,step : 2000 toral_Loss 0.2564026415348053 rec_loss 0.24532286822795868 kl_loss : 0.011079763062298298\n",
      "epoch 18 ,step : 2200 toral_Loss 0.25923630595207214 rec_loss 0.248649001121521 kl_loss : 0.010587301105260849\n",
      "epoch 20 ,step : 2400 toral_Loss 0.25047066807746887 rec_loss 0.23849934339523315 kl_loss : 0.011971315369009972\n",
      "epoch 22 ,step : 2600 toral_Loss 0.253181517124176 rec_loss 0.24091380834579468 kl_loss : 0.0122677031904459\n",
      "epoch 23 ,step : 2800 toral_Loss 0.25401878356933594 rec_loss 0.24138568341732025 kl_loss : 0.01263311505317688\n",
      "epoch 25 ,step : 3000 toral_Loss 0.254354864358902 rec_loss 0.24115881323814392 kl_loss : 0.013196062296628952\n",
      "epoch 27 ,step : 3200 toral_Loss 0.2523000240325928 rec_loss 0.23786704242229462 kl_loss : 0.014432973228394985\n",
      "epoch 29 ,step : 3400 toral_Loss 0.24829626083374023 rec_loss 0.2347123622894287 kl_loss : 0.013583892956376076\n",
      "epoch 30 ,step : 3600 toral_Loss 0.25134366750717163 rec_loss 0.23694680631160736 kl_loss : 0.01439686305820942\n",
      "epoch 32 ,step : 3800 toral_Loss 0.2523441016674042 rec_loss 0.23858264088630676 kl_loss : 0.013761457055807114\n",
      "epoch 34 ,step : 4000 toral_Loss 0.2520006597042084 rec_loss 0.23838412761688232 kl_loss : 0.013616539537906647\n",
      "epoch 35 ,step : 4200 toral_Loss 0.25311246514320374 rec_loss 0.23901519179344177 kl_loss : 0.014097264967858791\n",
      "epoch 37 ,step : 4400 toral_Loss 0.2603745460510254 rec_loss 0.246443971991539 kl_loss : 0.013930561020970345\n",
      "epoch 39 ,step : 4600 toral_Loss 0.25153663754463196 rec_loss 0.2362467646598816 kl_loss : 0.015289884060621262\n",
      "epoch 41 ,step : 4800 toral_Loss 0.25799018144607544 rec_loss 0.24368643760681152 kl_loss : 0.01430374477058649\n",
      "epoch 42 ,step : 5000 toral_Loss 0.2518583834171295 rec_loss 0.2368471324443817 kl_loss : 0.015011241659522057\n",
      "epoch 44 ,step : 5200 toral_Loss 0.2470443844795227 rec_loss 0.2320016324520111 kl_loss : 0.015042752027511597\n",
      "epoch 46 ,step : 5400 toral_Loss 0.24958111345767975 rec_loss 0.2351541519165039 kl_loss : 0.014426959678530693\n",
      "epoch 47 ,step : 5600 toral_Loss 0.2503821849822998 rec_loss 0.23450839519500732 kl_loss : 0.015873784199357033\n",
      "epoch 49 ,step : 5800 toral_Loss 0.2538715600967407 rec_loss 0.237167626619339 kl_loss : 0.016703926026821136\n",
      "epoch 51 ,step : 6000 toral_Loss 0.2490738332271576 rec_loss 0.2322811484336853 kl_loss : 0.01679268665611744\n",
      "epoch 52 ,step : 6200 toral_Loss 0.25013893842697144 rec_loss 0.2344631552696228 kl_loss : 0.015675771981477737\n"
     ]
    },
    {
     "ename": "KeyboardInterrupt",
     "evalue": "",
     "output_type": "error",
     "traceback": [
      "\u001b[0;31m---------------------------------------------------------------------------\u001b[0m",
      "\u001b[0;31mKeyboardInterrupt\u001b[0m                         Traceback (most recent call last)",
      "Cell \u001b[0;32mIn[18], line 3\u001b[0m\n\u001b[1;32m      1\u001b[0m step\u001b[38;5;241m=\u001b[39m\u001b[38;5;241m0\u001b[39m\n\u001b[1;32m      2\u001b[0m \u001b[38;5;28;01mfor\u001b[39;00m epoch \u001b[38;5;129;01min\u001b[39;00m \u001b[38;5;28mrange\u001b[39m(EPOCHS):\n\u001b[0;32m----> 3\u001b[0m     \u001b[38;5;28;01mfor\u001b[39;00m data,label \u001b[38;5;129;01min\u001b[39;00m mnist:\n\u001b[1;32m      4\u001b[0m         x\u001b[38;5;241m=\u001b[39mdata\u001b[38;5;241m.\u001b[39mto(device)\n\u001b[1;32m      5\u001b[0m         (gx,mean,logvar)\u001b[38;5;241m=\u001b[39med_model(x)\n",
      "File \u001b[0;32m~/anaconda3/envs/tts/lib/python3.10/site-packages/torch/utils/data/dataloader.py:630\u001b[0m, in \u001b[0;36m_BaseDataLoaderIter.__next__\u001b[0;34m(self)\u001b[0m\n\u001b[1;32m    627\u001b[0m \u001b[38;5;28;01mif\u001b[39;00m \u001b[38;5;28mself\u001b[39m\u001b[38;5;241m.\u001b[39m_sampler_iter \u001b[38;5;129;01mis\u001b[39;00m \u001b[38;5;28;01mNone\u001b[39;00m:\n\u001b[1;32m    628\u001b[0m     \u001b[38;5;66;03m# TODO(https://github.com/pytorch/pytorch/issues/76750)\u001b[39;00m\n\u001b[1;32m    629\u001b[0m     \u001b[38;5;28mself\u001b[39m\u001b[38;5;241m.\u001b[39m_reset()  \u001b[38;5;66;03m# type: ignore[call-arg]\u001b[39;00m\n\u001b[0;32m--> 630\u001b[0m data \u001b[38;5;241m=\u001b[39m \u001b[38;5;28;43mself\u001b[39;49m\u001b[38;5;241;43m.\u001b[39;49m\u001b[43m_next_data\u001b[49m\u001b[43m(\u001b[49m\u001b[43m)\u001b[49m\n\u001b[1;32m    631\u001b[0m \u001b[38;5;28mself\u001b[39m\u001b[38;5;241m.\u001b[39m_num_yielded \u001b[38;5;241m+\u001b[39m\u001b[38;5;241m=\u001b[39m \u001b[38;5;241m1\u001b[39m\n\u001b[1;32m    632\u001b[0m \u001b[38;5;28;01mif\u001b[39;00m \u001b[38;5;28mself\u001b[39m\u001b[38;5;241m.\u001b[39m_dataset_kind \u001b[38;5;241m==\u001b[39m _DatasetKind\u001b[38;5;241m.\u001b[39mIterable \u001b[38;5;129;01mand\u001b[39;00m \\\n\u001b[1;32m    633\u001b[0m         \u001b[38;5;28mself\u001b[39m\u001b[38;5;241m.\u001b[39m_IterableDataset_len_called \u001b[38;5;129;01mis\u001b[39;00m \u001b[38;5;129;01mnot\u001b[39;00m \u001b[38;5;28;01mNone\u001b[39;00m \u001b[38;5;129;01mand\u001b[39;00m \\\n\u001b[1;32m    634\u001b[0m         \u001b[38;5;28mself\u001b[39m\u001b[38;5;241m.\u001b[39m_num_yielded \u001b[38;5;241m>\u001b[39m \u001b[38;5;28mself\u001b[39m\u001b[38;5;241m.\u001b[39m_IterableDataset_len_called:\n",
      "File \u001b[0;32m~/anaconda3/envs/tts/lib/python3.10/site-packages/torch/utils/data/dataloader.py:674\u001b[0m, in \u001b[0;36m_SingleProcessDataLoaderIter._next_data\u001b[0;34m(self)\u001b[0m\n\u001b[1;32m    672\u001b[0m \u001b[38;5;28;01mdef\u001b[39;00m \u001b[38;5;21m_next_data\u001b[39m(\u001b[38;5;28mself\u001b[39m):\n\u001b[1;32m    673\u001b[0m     index \u001b[38;5;241m=\u001b[39m \u001b[38;5;28mself\u001b[39m\u001b[38;5;241m.\u001b[39m_next_index()  \u001b[38;5;66;03m# may raise StopIteration\u001b[39;00m\n\u001b[0;32m--> 674\u001b[0m     data \u001b[38;5;241m=\u001b[39m \u001b[38;5;28;43mself\u001b[39;49m\u001b[38;5;241;43m.\u001b[39;49m\u001b[43m_dataset_fetcher\u001b[49m\u001b[38;5;241;43m.\u001b[39;49m\u001b[43mfetch\u001b[49m\u001b[43m(\u001b[49m\u001b[43mindex\u001b[49m\u001b[43m)\u001b[49m  \u001b[38;5;66;03m# may raise StopIteration\u001b[39;00m\n\u001b[1;32m    675\u001b[0m     \u001b[38;5;28;01mif\u001b[39;00m \u001b[38;5;28mself\u001b[39m\u001b[38;5;241m.\u001b[39m_pin_memory:\n\u001b[1;32m    676\u001b[0m         data \u001b[38;5;241m=\u001b[39m _utils\u001b[38;5;241m.\u001b[39mpin_memory\u001b[38;5;241m.\u001b[39mpin_memory(data, \u001b[38;5;28mself\u001b[39m\u001b[38;5;241m.\u001b[39m_pin_memory_device)\n",
      "File \u001b[0;32m~/anaconda3/envs/tts/lib/python3.10/site-packages/torch/utils/data/_utils/fetch.py:51\u001b[0m, in \u001b[0;36m_MapDatasetFetcher.fetch\u001b[0;34m(self, possibly_batched_index)\u001b[0m\n\u001b[1;32m     49\u001b[0m         data \u001b[38;5;241m=\u001b[39m \u001b[38;5;28mself\u001b[39m\u001b[38;5;241m.\u001b[39mdataset\u001b[38;5;241m.\u001b[39m__getitems__(possibly_batched_index)\n\u001b[1;32m     50\u001b[0m     \u001b[38;5;28;01melse\u001b[39;00m:\n\u001b[0;32m---> 51\u001b[0m         data \u001b[38;5;241m=\u001b[39m [\u001b[38;5;28mself\u001b[39m\u001b[38;5;241m.\u001b[39mdataset[idx] \u001b[38;5;28;01mfor\u001b[39;00m idx \u001b[38;5;129;01min\u001b[39;00m possibly_batched_index]\n\u001b[1;32m     52\u001b[0m \u001b[38;5;28;01melse\u001b[39;00m:\n\u001b[1;32m     53\u001b[0m     data \u001b[38;5;241m=\u001b[39m \u001b[38;5;28mself\u001b[39m\u001b[38;5;241m.\u001b[39mdataset[possibly_batched_index]\n",
      "File \u001b[0;32m~/anaconda3/envs/tts/lib/python3.10/site-packages/torch/utils/data/_utils/fetch.py:51\u001b[0m, in \u001b[0;36m<listcomp>\u001b[0;34m(.0)\u001b[0m\n\u001b[1;32m     49\u001b[0m         data \u001b[38;5;241m=\u001b[39m \u001b[38;5;28mself\u001b[39m\u001b[38;5;241m.\u001b[39mdataset\u001b[38;5;241m.\u001b[39m__getitems__(possibly_batched_index)\n\u001b[1;32m     50\u001b[0m     \u001b[38;5;28;01melse\u001b[39;00m:\n\u001b[0;32m---> 51\u001b[0m         data \u001b[38;5;241m=\u001b[39m [\u001b[38;5;28;43mself\u001b[39;49m\u001b[38;5;241;43m.\u001b[39;49m\u001b[43mdataset\u001b[49m\u001b[43m[\u001b[49m\u001b[43midx\u001b[49m\u001b[43m]\u001b[49m \u001b[38;5;28;01mfor\u001b[39;00m idx \u001b[38;5;129;01min\u001b[39;00m possibly_batched_index]\n\u001b[1;32m     52\u001b[0m \u001b[38;5;28;01melse\u001b[39;00m:\n\u001b[1;32m     53\u001b[0m     data \u001b[38;5;241m=\u001b[39m \u001b[38;5;28mself\u001b[39m\u001b[38;5;241m.\u001b[39mdataset[possibly_batched_index]\n",
      "File \u001b[0;32m~/anaconda3/envs/tts/lib/python3.10/site-packages/torchvision/datasets/mnist.py:130\u001b[0m, in \u001b[0;36mMNIST.__getitem__\u001b[0;34m(self, index)\u001b[0m\n\u001b[1;32m    126\u001b[0m     targets \u001b[38;5;241m=\u001b[39m read_label_file(os\u001b[38;5;241m.\u001b[39mpath\u001b[38;5;241m.\u001b[39mjoin(\u001b[38;5;28mself\u001b[39m\u001b[38;5;241m.\u001b[39mraw_folder, label_file))\n\u001b[1;32m    128\u001b[0m     \u001b[38;5;28;01mreturn\u001b[39;00m data, targets\n\u001b[0;32m--> 130\u001b[0m \u001b[38;5;28;01mdef\u001b[39;00m \u001b[38;5;21m__getitem__\u001b[39m(\u001b[38;5;28mself\u001b[39m, index: \u001b[38;5;28mint\u001b[39m) \u001b[38;5;241m-\u001b[39m\u001b[38;5;241m>\u001b[39m Tuple[Any, Any]:\n\u001b[1;32m    131\u001b[0m \u001b[38;5;250m    \u001b[39m\u001b[38;5;124;03m\"\"\"\u001b[39;00m\n\u001b[1;32m    132\u001b[0m \u001b[38;5;124;03m    Args:\u001b[39;00m\n\u001b[1;32m    133\u001b[0m \u001b[38;5;124;03m        index (int): Index\u001b[39;00m\n\u001b[0;32m   (...)\u001b[0m\n\u001b[1;32m    136\u001b[0m \u001b[38;5;124;03m        tuple: (image, target) where target is index of the target class.\u001b[39;00m\n\u001b[1;32m    137\u001b[0m \u001b[38;5;124;03m    \"\"\"\u001b[39;00m\n\u001b[1;32m    138\u001b[0m     img, target \u001b[38;5;241m=\u001b[39m \u001b[38;5;28mself\u001b[39m\u001b[38;5;241m.\u001b[39mdata[index], \u001b[38;5;28mint\u001b[39m(\u001b[38;5;28mself\u001b[39m\u001b[38;5;241m.\u001b[39mtargets[index])\n",
      "\u001b[0;31mKeyboardInterrupt\u001b[0m: "
     ]
    }
   ],
   "source": [
    "step=0\n",
    "for epoch in range(EPOCHS):\n",
    "    for data,label in mnist:\n",
    "        x=data.to(device)\n",
    "        (gx,mean,logvar)=ed_model(x)\n",
    "        \n",
    "        ed_optim.zero_grad()\n",
    "        # rec loss\n",
    "        rec_loss=loss_fn(x.reshape(BATCH_SIZE,-1),gx)\n",
    "        # KL loss\n",
    "        kl_loss=torch.mean(-0.5*(logvar+1-mean**2-torch.exp(logvar)))\n",
    "        loss=rec_loss+kl_loss\n",
    "        loss.backward()\n",
    "        ed_optim.step()\n",
    "        if step%200==0:\n",
    "            print(f\"epoch {epoch} ,step : {step} toral_Loss {loss} rec_loss {rec_loss} kl_loss : {kl_loss}\")\n",
    "            if step%200==0:\n",
    "                os.makedirs(\"image\",exist_ok=True)\n",
    "                image=gx.reshape(BATCH_SIZE,1,28,28).data[:25]\n",
    "                save_image(image,\"image/%d.png\" % step,normalize=True,nrow=5)\n",
    "        step+=1"
   ]
  },
  {
   "cell_type": "markdown",
   "id": "c3c16aa6",
   "metadata": {},
   "source": [
    "# 7 image generator"
   ]
  },
  {
   "cell_type": "code",
   "execution_count": 23,
   "id": "c0c4f5a0",
   "metadata": {},
   "outputs": [
    {
     "data": {
      "image/png": "[encoded data removed]",
      "text/plain": [
       "<Figure size 640x480 with 1 Axes>"
      ]
     },
     "metadata": {},
     "output_type": "display_data"
    }
   ],
   "source": [
    "# random z\n",
    "\n",
    "z=torch.randn(25,z_dim).to(device)\n",
    "decoder_x=ed_model.decoder(z)\n",
    "\n",
    "decoder_x.shape\n",
    "g_x=decoder_x.reshape(-1,1,28,28).data.cpu().detach() # generator image\n",
    "save_image(g_x,\"image/test.png\",normalize=True,nrow=5)\n",
    "\n",
    "for i in range(5):\n",
    "    show_mnist_image(g_x[i][0], \"mnist\")"
   ]
  },
  {
   "cell_type": "markdown",
   "id": "19d7fc58",
   "metadata": {},
   "source": [
    "# 8 save model"
   ]
  },
  {
   "cell_type": "code",
   "execution_count": null,
   "id": "8b5c290b",
   "metadata": {},
   "outputs": [],
   "source": [
    "os.makedirs(\"model\",exist_ok=True)\n",
    "torch.save(ed_model.decoder.state_dict(),\"model/mnist_vae_model.pth\")"
   ]
  },
  {
   "cell_type": "markdown",
   "id": "3a3d2ada",
   "metadata": {},
   "source": [
    "# 9 load model"
   ]
  },
  {
   "cell_type": "code",
   "execution_count": 25,
   "id": "9be6fdbd",
   "metadata": {},
   "outputs": [
    {
     "data": {
      "text/plain": [
       "<All keys matched successfully>"
      ]
     },
     "execution_count": 25,
     "metadata": {},
     "output_type": "execute_result"
    }
   ],
   "source": [
    "# load and use model\n",
    "new_model=Decoder(z_dim).to(device)\n",
    "new_model.load_state_dict(torch.load(\"model/mnist_vae_model.pth\"))"
   ]
  },
  {
   "cell_type": "markdown",
   "id": "1944876e",
   "metadata": {},
   "source": [
    "# 10 use new model"
   ]
  },
  {
   "cell_type": "code",
   "execution_count": 26,
   "id": "58b2801f",
   "metadata": {},
   "outputs": [
    {
     "data": {
      "image/png": "[encoded data removed]",
      "text/plain": [
       "<Figure size 640x480 with 1 Axes>"
      ]
     },
     "metadata": {},
     "output_type": "display_data"
    }
   ],
   "source": [
    "z=torch.randn(25,z_dim).to(device)\n",
    "\n",
    "g_x=new_model(z).reshape(-1,1,28,28).data.cpu().detach() # generator image\n",
    "save_image(g_x,\"image/test.png\",normalize=True,nrow=5)\n",
    "\n",
    "for i in range(5):\n",
    "    show_mnist_image(g_x[i][0], \"mnist\")"
   ]
  },
  {
   "cell_type": "code",
   "execution_count": null,
   "id": "53a96483",
   "metadata": {},
   "outputs": [],
   "source": []
  }
 ],
 "metadata": {
  "kernelspec": {
   "display_name": "tts",
   "language": "python",
   "name": "tts"
  },
  "language_info": {
   "codemirror_mode": {
    "name": "ipython",
    "version": 3
   },
   "file_extension": ".py",
   "mimetype": "text/x-python",
   "name": "python",
   "nbconvert_exporter": "python",
   "pygments_lexer": "ipython3",
   "version": "3.10.1"
  }
 },
 "nbformat": 4,
 "nbformat_minor": 5
}
